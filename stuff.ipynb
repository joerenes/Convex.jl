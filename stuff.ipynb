{
 "cells": [
  {
   "cell_type": "code",
   "execution_count": 1,
   "metadata": {},
   "outputs": [
    {
     "name": "stderr",
     "output_type": "stream",
     "text": [
      "┌ Info: Recompiling stale cache file /Users/joerenes/.julia/compiled/v1.1/Convex/Sr0e5.ji for Convex [f65535da-76fb-5f13-bab9-19810c17039a]\n",
      "└ @ Base loading.jl:1184\n"
     ]
    }
   ],
   "source": [
    "using Convex\n",
    "using SCS\n",
    "using Test"
   ]
  },
  {
   "cell_type": "code",
   "execution_count": 2,
   "metadata": {},
   "outputs": [
    {
     "name": "stdout",
     "output_type": "stream",
     "text": [
      "search: \u001b[0m\u001b[1mp\u001b[22m\u001b[0m\u001b[1ma\u001b[22m\u001b[0m\u001b[1mr\u001b[22m\u001b[0m\u001b[1mt\u001b[22m\u001b[0m\u001b[1mi\u001b[22m\u001b[0m\u001b[1ma\u001b[22m\u001b[0m\u001b[1ml\u001b[22m\u001b[0m\u001b[1mt\u001b[22m\u001b[0m\u001b[1mr\u001b[22m\u001b[0m\u001b[1ma\u001b[22m\u001b[0m\u001b[1mn\u001b[22m\u001b[0m\u001b[1ms\u001b[22m\u001b[0m\u001b[1mp\u001b[22m\u001b[0m\u001b[1mo\u001b[22m\u001b[0m\u001b[1ms\u001b[22m\u001b[0m\u001b[1me\u001b[22m \u001b[0m\u001b[1mP\u001b[22m\u001b[0m\u001b[1ma\u001b[22m\u001b[0m\u001b[1mr\u001b[22m\u001b[0m\u001b[1mt\u001b[22m\u001b[0m\u001b[1mi\u001b[22m\u001b[0m\u001b[1ma\u001b[22m\u001b[0m\u001b[1ml\u001b[22m\u001b[0m\u001b[1mT\u001b[22m\u001b[0m\u001b[1mr\u001b[22m\u001b[0m\u001b[1ma\u001b[22m\u001b[0m\u001b[1mn\u001b[22m\u001b[0m\u001b[1ms\u001b[22m\u001b[0m\u001b[1mp\u001b[22m\u001b[0m\u001b[1mo\u001b[22m\u001b[0m\u001b[1ms\u001b[22m\u001b[0m\u001b[1me\u001b[22mAtom\n",
      "\n"
     ]
    },
    {
     "data": {
      "text/latex": [
       "\\begin{verbatim}\n",
       "partialtranspose(x, sys::Int, dims::Vector)\n",
       "\\end{verbatim}\n",
       "Returns the partial transpose of \\texttt{x} over the \\texttt{sys}th system, where \\texttt{dims} is a vector of integers encoding the dimensions of each subsystem.\n",
       "\n"
      ],
      "text/markdown": [
       "```\n",
       "partialtranspose(x, sys::Int, dims::Vector)\n",
       "```\n",
       "\n",
       "Returns the partial transpose of `x` over the `sys`th system, where `dims` is a vector of integers encoding the dimensions of each subsystem.\n"
      ],
      "text/plain": [
       "\u001b[36m  partialtranspose(x, sys::Int, dims::Vector)\u001b[39m\n",
       "\n",
       "  Returns the partial transpose of \u001b[36mx\u001b[39m over the \u001b[36msys\u001b[39mth system, where \u001b[36mdims\u001b[39m is a\n",
       "  vector of integers encoding the dimensions of each subsystem."
      ]
     },
     "execution_count": 2,
     "metadata": {},
     "output_type": "execute_result"
    }
   ],
   "source": [
    "?partialtranspose"
   ]
  },
  {
   "cell_type": "code",
   "execution_count": 3,
   "metadata": {},
   "outputs": [
    {
     "data": {
      "text/plain": [
       "Variable of\n",
       "size: (24, 24)\n",
       "sign: ComplexSign()\n",
       "vexity: AffineVexity()"
      ]
     },
     "execution_count": 3,
     "metadata": {},
     "output_type": "execute_result"
    }
   ],
   "source": [
    "dims = [2,3,4]\n",
    "d = prod(dims)\n",
    "M = rand(ComplexF64,d,d)\n",
    "R = ComplexVariable(d,d)\n"
   ]
  },
  {
   "cell_type": "code",
   "execution_count": 4,
   "metadata": {},
   "outputs": [],
   "source": [
    "pb = satisfy(partialtranspose(R, 3, dims) == M )\n",
    "solve!(pb,SCSSolver(verbose=false))"
   ]
  },
  {
   "cell_type": "code",
   "execution_count": 5,
   "metadata": {},
   "outputs": [
    {
     "data": {
      "text/plain": [
       "\u001b[32m\u001b[1mTest Passed\u001b[22m\u001b[39m"
      ]
     },
     "execution_count": 5,
     "metadata": {},
     "output_type": "execute_result"
    }
   ],
   "source": [
    "TOL = 1e-3\n",
    "@test partialtranspose(M,3,dims) ≈ evaluate(R) atol = TOL"
   ]
  },
  {
   "cell_type": "code",
   "execution_count": 5,
   "metadata": {},
   "outputs": [
    {
     "data": {
      "text/plain": [
       "0.001"
      ]
     },
     "execution_count": 5,
     "metadata": {},
     "output_type": "execute_result"
    }
   ],
   "source": [
    "TOL = 1e-3"
   ]
  },
  {
   "cell_type": "code",
   "execution_count": 4,
   "metadata": {},
   "outputs": [
    {
     "name": "stdout",
     "output_type": "stream",
     "text": [
      "\u001b[37m\u001b[1mTest Summary: | \u001b[22m\u001b[39m\u001b[32m\u001b[1mPass  \u001b[22m\u001b[39m\u001b[36m\u001b[1mTotal\u001b[22m\u001b[39m\n",
      "test set      | \u001b[32m   9  \u001b[39m\u001b[36m    9\u001b[39m\n"
     ]
    },
    {
     "data": {
      "text/plain": [
       "Test.DefaultTestSet(\"test set\", Any[], 9, false)"
      ]
     },
     "execution_count": 4,
     "metadata": {},
     "output_type": "execute_result"
    }
   ],
   "source": [
    "dims = [2,3,4]\n",
    "d = prod(dims)\n",
    "A = rand(ComplexF64,2,2)\n",
    "B = rand(ComplexF64,3,3)\n",
    "C = rand(ComplexF64,4,4)\n",
    "M = kron(A,B,C)\n",
    "Mt1 = kron(transpose(A),B,C)\n",
    "Mt2 = kron(A,transpose(B),C)\n",
    "Mt3 = kron(A,B,transpose(C))\n",
    "\n",
    "Rt1 = ComplexVariable(d,d)\n",
    "Rt2 = ComplexVariable(d,d)\n",
    "Rt3 = ComplexVariable(d,d)\n",
    "S = rand(ComplexF64,d,d)\n",
    "solve!(satisfy(partialtranspose(Rt1, 1, dims) == S ),SCSSolver(verbose=false))\n",
    "solve!(satisfy(partialtranspose(Rt2, 2, dims) == S ),SCSSolver(verbose=false))\n",
    "solve!(satisfy(partialtranspose(Rt3, 3, dims) == S ),SCSSolver(verbose=false))\n",
    "\n",
    "@testset begin\n",
    "@test partialtranspose(M,1,dims) ≈ Mt1 atol = TOL\n",
    "@test partialtranspose(M,2,dims) ≈ Mt2 atol = TOL\n",
    "@test partialtranspose(M,3,dims) ≈ Mt3 atol = TOL\n",
    "@test partialtranspose(S,1,dims) ≈ evaluate(Rt1) atol = TOL\n",
    "@test partialtranspose(S,2,dims) ≈ evaluate(Rt2) atol = TOL\n",
    "@test partialtranspose(S,3,dims) ≈ evaluate(Rt3) atol = TOL\n",
    "    \n",
    "@test_throws ArgumentError partialtranspose(rand(6, 6), 3, [2, 3])\n",
    "@test_throws ArgumentError partialtranspose(rand(6, 6), 1, [2, 4])\n",
    "@test_throws ArgumentError partialtranspose(rand(3, 4), 1, [2, 3])\n",
    "end"
   ]
  },
  {
   "cell_type": "code",
   "execution_count": 6,
   "metadata": {},
   "outputs": [
    {
     "ename": "ArgumentError",
     "evalue": "ArgumentError: Invalid system, should between 1 and 2; got 3",
     "output_type": "error",
     "traceback": [
      "ArgumentError: Invalid system, should between 1 and 2; got 3",
      "",
      "Stacktrace:",
      " [1] partialtranspose(::Array{Float64,2}, ::Int64, ::Array{Int64,1}) at /Users/joerenes/.julia/dev/Convex/src/atoms/affine/partialtranspose.jl:54",
      " [2] top-level scope at In[6]:1"
     ]
    }
   ],
   "source": [
    "partialtranspose(rand(6,6), 3, [2, 3])"
   ]
  },
  {
   "cell_type": "code",
   "execution_count": 9,
   "metadata": {},
   "outputs": [
    {
     "data": {
      "text/plain": [
       "(6, 6)"
      ]
     },
     "execution_count": 9,
     "metadata": {},
     "output_type": "execute_result"
    }
   ],
   "source": [
    "size(x)"
   ]
  },
  {
   "cell_type": "code",
   "execution_count": 6,
   "metadata": {},
   "outputs": [
    {
     "ename": "ErrorException",
     "evalue": "type Array has no field size",
     "output_type": "error",
     "traceback": [
      "type Array has no field size",
      "",
      "Stacktrace:",
      " [1] getproperty(::Any, ::Symbol) at ./sysimg.jl:18",
      " [2] partialtranspose(::Array{Float64,2}, ::Int64, ::Array{Int64,1}) at /Users/joerenes/.julia/dev/Convex/src/atoms/affine/partialtranspose.jl:50",
      " [3] top-level scope at In[6]:1"
     ]
    }
   ],
   "source": [
    "partialtranspose(rand(6, 6), 3, [2, 3])"
   ]
  },
  {
   "cell_type": "code",
   "execution_count": 25,
   "metadata": {},
   "outputs": [
    {
     "data": {
      "text/plain": [
       "1.6612020967877017e-12"
      ]
     },
     "execution_count": 25,
     "metadata": {},
     "output_type": "execute_result"
    }
   ],
   "source": [
    "sum(abs.(reshape(partialtranspose(M,3,dims) - evaluate(R),:)))"
   ]
  },
  {
   "cell_type": "code",
   "execution_count": 22,
   "metadata": {},
   "outputs": [],
   "source": [
    "pr = minimize(real(tr(R*rand(d,d))),[partialtranspose(R, 3, dims) == M])\n",
    "solve!(pr,SCSSolver(verbose=false))"
   ]
  },
  {
   "cell_type": "code",
   "execution_count": 23,
   "metadata": {},
   "outputs": [
    {
     "data": {
      "text/plain": [
       "0.001581196693364156"
      ]
     },
     "execution_count": 23,
     "metadata": {},
     "output_type": "execute_result"
    }
   ],
   "source": [
    "sum(abs.(reshape(partialtranspose(M,3,dims) - evaluate(R),:)))"
   ]
  },
  {
   "cell_type": "code",
   "execution_count": 5,
   "metadata": {},
   "outputs": [
    {
     "data": {
      "text/plain": [
       "AbstractExpr with\n",
       "head: partialtranspose\n",
       "size: (6, 6)\n",
       "sign: ComplexSign()\n",
       "vexity: AffineVexity()\n"
      ]
     },
     "execution_count": 5,
     "metadata": {},
     "output_type": "execute_result"
    }
   ],
   "source": [
    "partialtranspose(tr,2,[dA,dB])"
   ]
  },
  {
   "cell_type": "code",
   "execution_count": 14,
   "metadata": {},
   "outputs": [
    {
     "data": {
      "text/plain": [
       "4×4 Array{Int64,2}:\n",
       " 1  0  0  0\n",
       " 0  0  1  0\n",
       " 0  1  0  0\n",
       " 0  0  0  1"
      ]
     },
     "execution_count": 14,
     "metadata": {},
     "output_type": "execute_result"
    }
   ],
   "source": [
    "using LinearAlgebra\n",
    "d=2\n",
    "v=reshape(Matrix(I,d,d),:)\n",
    "r = v* v'\n",
    "Int.(partialtranspose(r,1,[d,d]))"
   ]
  },
  {
   "cell_type": "code",
   "execution_count": 6,
   "metadata": {},
   "outputs": [
    {
     "data": {
      "text/plain": [
       "12×12 Array{Int64,2}:\n",
       "  1  13  25  37  49  61  73  85   97  109  121  133\n",
       "  2  14  26  38  50  62  74  86   98  110  122  134\n",
       "  3  15  27  39  51  63  75  87   99  111  123  135\n",
       "  4  16  28  40  52  64  76  88  100  112  124  136\n",
       "  5  17  29  41  53  65  77  89  101  113  125  137\n",
       "  6  18  30  42  54  66  78  90  102  114  126  138\n",
       "  7  19  31  43  55  67  79  91  103  115  127  139\n",
       "  8  20  32  44  56  68  80  92  104  116  128  140\n",
       "  9  21  33  45  57  69  81  93  105  117  129  141\n",
       " 10  22  34  46  58  70  82  94  106  118  130  142\n",
       " 11  23  35  47  59  71  83  95  107  119  131  143\n",
       " 12  24  36  48  60  72  84  96  108  120  132  144"
      ]
     },
     "execution_count": 6,
     "metadata": {},
     "output_type": "execute_result"
    }
   ],
   "source": [
    "partialtranspose(A,1,[1,dA*dB*dC])"
   ]
  },
  {
   "cell_type": "code",
   "execution_count": 17,
   "metadata": {},
   "outputs": [
    {
     "data": {
      "text/plain": [
       "12×12 Array{Int64,2}:\n",
       "  1  13  25  37  49  61  73  85   97  109  121  133\n",
       "  2  14  26  38  50  62  74  86   98  110  122  134\n",
       "  3  15  27  39  51  63  75  87   99  111  123  135\n",
       "  4  16  28  40  52  64  76  88  100  112  124  136\n",
       "  5  17  29  41  53  65  77  89  101  113  125  137\n",
       "  6  18  30  42  54  66  78  90  102  114  126  138\n",
       "  7  19  31  43  55  67  79  91  103  115  127  139\n",
       "  8  20  32  44  56  68  80  92  104  116  128  140\n",
       "  9  21  33  45  57  69  81  93  105  117  129  141\n",
       " 10  22  34  46  58  70  82  94  106  118  130  142\n",
       " 11  23  35  47  59  71  83  95  107  119  131  143\n",
       " 12  24  36  48  60  72  84  96  108  120  132  144"
      ]
     },
     "execution_count": 17,
     "metadata": {},
     "output_type": "execute_result"
    }
   ],
   "source": [
    "partialtranspose(A,2,[dA*dB*dC,1])"
   ]
  },
  {
   "cell_type": "code",
   "execution_count": 10,
   "metadata": {},
   "outputs": [
    {
     "name": "stdout",
     "output_type": "stream",
     "text": [
      "search: \u001b[0m\u001b[1mp\u001b[22m\u001b[0m\u001b[1ma\u001b[22m\u001b[0m\u001b[1mr\u001b[22m\u001b[0m\u001b[1mt\u001b[22m\u001b[0m\u001b[1mi\u001b[22m\u001b[0m\u001b[1ma\u001b[22m\u001b[0m\u001b[1ml\u001b[22m\u001b[0m\u001b[1mt\u001b[22m\u001b[0m\u001b[1mr\u001b[22m\u001b[0m\u001b[1ma\u001b[22m\u001b[0m\u001b[1mn\u001b[22m\u001b[0m\u001b[1ms\u001b[22m\u001b[0m\u001b[1mp\u001b[22m\u001b[0m\u001b[1mo\u001b[22m\u001b[0m\u001b[1ms\u001b[22m\u001b[0m\u001b[1me\u001b[22m \u001b[0m\u001b[1mP\u001b[22m\u001b[0m\u001b[1ma\u001b[22m\u001b[0m\u001b[1mr\u001b[22m\u001b[0m\u001b[1mt\u001b[22m\u001b[0m\u001b[1mi\u001b[22m\u001b[0m\u001b[1ma\u001b[22m\u001b[0m\u001b[1ml\u001b[22m\u001b[0m\u001b[1mT\u001b[22m\u001b[0m\u001b[1mr\u001b[22m\u001b[0m\u001b[1ma\u001b[22m\u001b[0m\u001b[1mn\u001b[22m\u001b[0m\u001b[1ms\u001b[22m\u001b[0m\u001b[1mp\u001b[22m\u001b[0m\u001b[1mo\u001b[22m\u001b[0m\u001b[1ms\u001b[22m\u001b[0m\u001b[1me\u001b[22mAtom\n",
      "\n"
     ]
    },
    {
     "data": {
      "text/latex": [
       "No documentation found.\n",
       "\n",
       "\\texttt{Convex.partialtranspose} is a \\texttt{Function}.\n",
       "\n",
       "\\begin{verbatim}\n",
       "# 2 methods for generic function \"partialtranspose\":\n",
       "[1] partialtranspose(x::AbstractArray{T,2} where T, sys::Int64, dims::Array{T,1} where T) in Convex at /Users/joerenes/.julia/dev/Convex/src/atoms/affine/partialtranspose.jl:46\n",
       "[2] partialtranspose(x::AbstractExpr, sys::Int64, dim::Array{T,1} where T) in Convex at /Users/joerenes/.julia/dev/Convex/src/atoms/affine/partialtranspose.jl:89\n",
       "\\end{verbatim}\n"
      ],
      "text/markdown": [
       "No documentation found.\n",
       "\n",
       "`Convex.partialtranspose` is a `Function`.\n",
       "\n",
       "```\n",
       "# 2 methods for generic function \"partialtranspose\":\n",
       "[1] partialtranspose(x::AbstractArray{T,2} where T, sys::Int64, dims::Array{T,1} where T) in Convex at /Users/joerenes/.julia/dev/Convex/src/atoms/affine/partialtranspose.jl:46\n",
       "[2] partialtranspose(x::AbstractExpr, sys::Int64, dim::Array{T,1} where T) in Convex at /Users/joerenes/.julia/dev/Convex/src/atoms/affine/partialtranspose.jl:89\n",
       "```\n"
      ],
      "text/plain": [
       "  No documentation found.\n",
       "\n",
       "  \u001b[36mConvex.partialtranspose\u001b[39m is a \u001b[36mFunction\u001b[39m.\n",
       "\n",
       "\u001b[36m  # 2 methods for generic function \"partialtranspose\":\u001b[39m\n",
       "\u001b[36m  [1] partialtranspose(x::AbstractArray{T,2} where T, sys::Int64, dims::Array{T,1} where T) in Convex at /Users/joerenes/.julia/dev/Convex/src/atoms/affine/partialtranspose.jl:46\u001b[39m\n",
       "\u001b[36m  [2] partialtranspose(x::AbstractExpr, sys::Int64, dim::Array{T,1} where T) in Convex at /Users/joerenes/.julia/dev/Convex/src/atoms/affine/partialtranspose.jl:89\u001b[39m"
      ]
     },
     "execution_count": 10,
     "metadata": {},
     "output_type": "execute_result"
    }
   ],
   "source": [
    "?partialtranspose"
   ]
  },
  {
   "cell_type": "code",
   "execution_count": 8,
   "metadata": {},
   "outputs": [
    {
     "data": {
      "text/plain": [
       "ConicObj(OrderedCollections.OrderedDict{UInt64,Tuple{Union{Number, AbstractArray},Union{Number, AbstractArray}}}(0x4bff9badaa77fdf2=>(\n",
       "  [1 ,  1]  =  1.0\n",
       "  [2 ,  2]  =  1.0\n",
       "  [3 ,  3]  =  1.0\n",
       "  [19,  4]  =  1.0\n",
       "  [20,  5]  =  1.0\n",
       "  [21,  6]  =  1.0\n",
       "  [7 ,  7]  =  1.0\n",
       "  [8 ,  8]  =  1.0\n",
       "  [9 ,  9]  =  1.0\n",
       "  [25, 10]  =  1.0\n",
       "  [26, 11]  =  1.0\n",
       "  [27, 12]  =  1.0\n",
       "  ⋮\n",
       "  [10, 25]  =  1.0\n",
       "  [11, 26]  =  1.0\n",
       "  [12, 27]  =  1.0\n",
       "  [28, 28]  =  1.0\n",
       "  [29, 29]  =  1.0\n",
       "  [30, 30]  =  1.0\n",
       "  [16, 31]  =  1.0\n",
       "  [17, 32]  =  1.0\n",
       "  [18, 33]  =  1.0\n",
       "  [34, 34]  =  1.0\n",
       "  [35, 35]  =  1.0\n",
       "  [36, 36]  =  1.0, \n",
       "  [1 ,  1]  =  0.0+1.0im\n",
       "  [2 ,  2]  =  0.0+1.0im\n",
       "  [3 ,  3]  =  0.0+1.0im\n",
       "  [19,  4]  =  0.0+1.0im\n",
       "  [20,  5]  =  0.0+1.0im\n",
       "  [21,  6]  =  0.0+1.0im\n",
       "  [7 ,  7]  =  0.0+1.0im\n",
       "  [8 ,  8]  =  0.0+1.0im\n",
       "  [9 ,  9]  =  0.0+1.0im\n",
       "  [25, 10]  =  0.0+1.0im\n",
       "  [26, 11]  =  0.0+1.0im\n",
       "  [27, 12]  =  0.0+1.0im\n",
       "  ⋮\n",
       "  [10, 25]  =  0.0+1.0im\n",
       "  [11, 26]  =  0.0+1.0im\n",
       "  [12, 27]  =  0.0+1.0im\n",
       "  [28, 28]  =  0.0+1.0im\n",
       "  [29, 29]  =  0.0+1.0im\n",
       "  [30, 30]  =  0.0+1.0im\n",
       "  [16, 31]  =  0.0+1.0im\n",
       "  [17, 32]  =  0.0+1.0im\n",
       "  [18, 33]  =  0.0+1.0im\n",
       "  [34, 34]  =  0.0+1.0im\n",
       "  [35, 35]  =  0.0+1.0im\n",
       "  [36, 36]  =  0.0+1.0im),0xda59128f4ac0b6bc=>(36×1 SparseMatrixCSC{Float64,Int64} with 0 stored entries, 36×1 SparseMatrixCSC{Float64,Int64} with 0 stored entries)))"
      ]
     },
     "execution_count": 8,
     "metadata": {},
     "output_type": "execute_result"
    }
   ],
   "source": [
    "conic_form!(rer)"
   ]
  }
 ],
 "metadata": {
  "kernelspec": {
   "display_name": "Julia 1.1.0",
   "language": "julia",
   "name": "julia-1.1"
  },
  "language_info": {
   "file_extension": ".jl",
   "mimetype": "application/julia",
   "name": "julia",
   "version": "1.1.1"
  }
 },
 "nbformat": 4,
 "nbformat_minor": 2
}
